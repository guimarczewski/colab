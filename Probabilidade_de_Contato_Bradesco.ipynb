{
  "nbformat": 4,
  "nbformat_minor": 0,
  "metadata": {
    "colab": {
      "name": "Probabilidade de Contato - Bradesco",
      "provenance": [],
      "include_colab_link": true
    },
    "kernelspec": {
      "name": "python3",
      "display_name": "Python 3"
    },
    "language_info": {
      "name": "python"
    }
  },
  "cells": [
    {
      "cell_type": "markdown",
      "metadata": {
        "id": "view-in-github",
        "colab_type": "text"
      },
      "source": [
        "<a href=\"https://colab.research.google.com/github/guimarczewski/colab/blob/master/Probabilidade_de_Contato_Bradesco.ipynb\" target=\"_parent\"><img src=\"https://colab.research.google.com/assets/colab-badge.svg\" alt=\"Open In Colab\"/></a>"
      ]
    },
    {
      "cell_type": "markdown",
      "source": [
        "# Probabilidade de Contato\n",
        "\n",
        "Script para definir, com base no histórico de tabulações, a probabilidade de contato de um determinado cliente. Além dos pontos de localização, é informado se o cliente já teve promessa e cpc nos últimos 30 dias e nos últimos 90 dias, além da última ocorrência e sua data correspondente."
      ],
      "metadata": {
        "id": "mj2zcjf5OF1s"
      }
    },
    {
      "cell_type": "markdown",
      "source": [
        "## Importando bibliotecas e verificando mapeamento no Google Drive"
      ],
      "metadata": {
        "id": "8kqG310xOjoN"
      }
    },
    {
      "cell_type": "code",
      "execution_count": null,
      "metadata": {
        "colab": {
          "base_uri": "https://localhost:8080/"
        },
        "id": "c1d7tHg1ZX7H",
        "outputId": "aa59f989-70af-476d-b956-fe8271a783e6"
      },
      "outputs": [
        {
          "output_type": "stream",
          "name": "stdout",
          "text": [
            "Mounted at /content/gdrive\n"
          ]
        }
      ],
      "source": [
        "#importando bibliotecas necessárias\n",
        "import os\n",
        "import pandas as pd\n",
        "import glob\n",
        "from datetime import datetime, timezone, timedelta\n",
        "\n",
        "#conectando ao Google Drive\n",
        "from google.colab import drive\n",
        "from google.colab import files\n",
        "drive.mount('/content/gdrive')"
      ]
    },
    {
      "cell_type": "code",
      "source": [
        "#verificando diretório atual\n",
        "os.getcwd()"
      ],
      "metadata": {
        "colab": {
          "base_uri": "https://localhost:8080/",
          "height": 35
        },
        "id": "t-fqe4DOa798",
        "outputId": "f2b70254-da8f-41ed-8066-c5f0b752cdc7"
      },
      "execution_count": null,
      "outputs": [
        {
          "output_type": "execute_result",
          "data": {
            "application/vnd.google.colaboratory.intrinsic+json": {
              "type": "string"
            },
            "text/plain": [
              "'/content'"
            ]
          },
          "metadata": {},
          "execution_count": 2
        }
      ]
    },
    {
      "cell_type": "code",
      "source": [
        "#alterando para diretório com arquivos de histórico\n",
        "os.chdir('/content/gdrive/Shareddrives/Bradesco/Estudos/ProbabilidadeLoc/Historico')"
      ],
      "metadata": {
        "id": "NxuVw9i0a-DG"
      },
      "execution_count": null,
      "outputs": []
    },
    {
      "cell_type": "code",
      "source": [
        "#verificando se alterou diretório\n",
        "os.getcwd()"
      ],
      "metadata": {
        "colab": {
          "base_uri": "https://localhost:8080/",
          "height": 35
        },
        "id": "AUklPNr2bJLO",
        "outputId": "c7c3d7af-12b1-457e-fca1-12ac5bd70115"
      },
      "execution_count": null,
      "outputs": [
        {
          "output_type": "execute_result",
          "data": {
            "application/vnd.google.colaboratory.intrinsic+json": {
              "type": "string"
            },
            "text/plain": [
              "'/content/gdrive/Shareddrives/Bradesco/Probabilidade de Contato - Bradesco/Historico'"
            ]
          },
          "metadata": {},
          "execution_count": 4
        }
      ]
    },
    {
      "cell_type": "markdown",
      "source": [
        "## ETL e Output"
      ],
      "metadata": {
        "id": "eSihI3SDcWua"
      }
    },
    {
      "cell_type": "markdown",
      "source": [
        "**ARQUIVOS**\n",
        "\n",
        "O arquivo de históricos é obtido através do agrupamento de todos os arquivos CSV que estão no diretório '/content/gdrive/Shareddrives/Bradesco/Historico'. São os arquivos que possuem o histórico de acionamentos diários das carteiras do Bradesco.\n",
        "\n",
        "\n",
        "G:\\Drives compartilhados\\Bradesco\\De_para:\n",
        "\n",
        "\n",
        "*   descpts.csv: pontuação das classificações de ocorrências.\n",
        "*   diasAcion.csv: pesos para as datas de acionamento. Quanto maior o atraso, menor o peso.\n",
        "*   dOcorrencias.csv: de_para ocorrências x classificações.\n",
        "\n",
        "*   estoque.csv: Contrato/Alçada/Faixa de Atraso."
      ],
      "metadata": {
        "id": "-CFWtis4Oq3c"
      }
    },
    {
      "cell_type": "code",
      "source": [
        "#agrupando os arquivos csv do diretório atual e transformando os campos 'contrato' e 'CPFCNPJ' em string\n",
        "extensao = 'csv'\n",
        "\n",
        "arquivos_csv = [i for i in glob.glob('*.{}'.format(extensao))]\n",
        "concatenado = pd.concat([pd.read_csv(f, sep=';', encoding='latin-1', dtype={'Contrato': str,'CPFCNPJ':str}) for f in arquivos_csv ])"
      ],
      "metadata": {
        "id": "TIidbfGDcIOM"
      },
      "execution_count": null,
      "outputs": []
    },
    {
      "cell_type": "code",
      "source": [
        "#ajustando o nome das colunas que estavam invertidos\n",
        "df = concatenado.rename(columns={'Hora': 'Data','Data': 'Hora'})"
      ],
      "metadata": {
        "id": "NzFSTFlIeAP6"
      },
      "execution_count": null,
      "outputs": []
    },
    {
      "cell_type": "code",
      "source": [
        "#retirando os acionamentos do sistema\n",
        "df_new = df['Login']!='sistema'\n",
        "filtered_df = df[df_new]"
      ],
      "metadata": {
        "id": "q9DR5uK75Fs1"
      },
      "execution_count": null,
      "outputs": []
    },
    {
      "cell_type": "code",
      "source": [
        "#criando nova coluna data/hora\n",
        "filtered_df[\"data/hora\"] = (filtered_df[\"Data\"].astype(str)) + \" \" + (filtered_df[\"Hora\"].astype(str))"
      ],
      "metadata": {
        "colab": {
          "base_uri": "https://localhost:8080/"
        },
        "id": "ln2-J86f5Rtz",
        "outputId": "f8d7fbc1-cde0-4cea-96b7-39db52fdc00a"
      },
      "execution_count": null,
      "outputs": [
        {
          "output_type": "stream",
          "name": "stderr",
          "text": [
            "/usr/local/lib/python3.7/dist-packages/ipykernel_launcher.py:2: SettingWithCopyWarning: \n",
            "A value is trying to be set on a copy of a slice from a DataFrame.\n",
            "Try using .loc[row_indexer,col_indexer] = value instead\n",
            "\n",
            "See the caveats in the documentation: https://pandas.pydata.org/pandas-docs/stable/user_guide/indexing.html#returning-a-view-versus-a-copy\n",
            "  \n"
          ]
        }
      ]
    },
    {
      "cell_type": "code",
      "source": [
        "#ajustando o formato da coluna data e da coluna data/hora\n",
        "filtered_df['data/hora'] = pd.to_datetime(filtered_df['data/hora'], format=\"%Y-%m-%d %H:%M\")\n",
        "filtered_df['Data'] = pd.to_datetime(filtered_df['Data'], format=\"%Y-%m-%d\")"
      ],
      "metadata": {
        "id": "3gQuXcBgiL5w",
        "colab": {
          "base_uri": "https://localhost:8080/"
        },
        "outputId": "9ccba639-7816-4094-dc70-675df5d63848"
      },
      "execution_count": null,
      "outputs": [
        {
          "output_type": "stream",
          "name": "stderr",
          "text": [
            "/usr/local/lib/python3.7/dist-packages/ipykernel_launcher.py:2: SettingWithCopyWarning: \n",
            "A value is trying to be set on a copy of a slice from a DataFrame.\n",
            "Try using .loc[row_indexer,col_indexer] = value instead\n",
            "\n",
            "See the caveats in the documentation: https://pandas.pydata.org/pandas-docs/stable/user_guide/indexing.html#returning-a-view-versus-a-copy\n",
            "  \n",
            "/usr/local/lib/python3.7/dist-packages/ipykernel_launcher.py:3: SettingWithCopyWarning: \n",
            "A value is trying to be set on a copy of a slice from a DataFrame.\n",
            "Try using .loc[row_indexer,col_indexer] = value instead\n",
            "\n",
            "See the caveats in the documentation: https://pandas.pydata.org/pandas-docs/stable/user_guide/indexing.html#returning-a-view-versus-a-copy\n",
            "  This is separate from the ipykernel package so we can avoid doing imports until\n"
          ]
        }
      ]
    },
    {
      "cell_type": "code",
      "source": [
        "#removendo colunas que não serão usadas\n",
        "df_work = filtered_df.drop(filtered_df.columns[[0, 3, 4, 5, 6, 8, 9, 11]], axis=1)"
      ],
      "metadata": {
        "id": "VW7cKS1RnTo-"
      },
      "execution_count": null,
      "outputs": []
    },
    {
      "cell_type": "code",
      "source": [
        "#filtrando um determinado CPF\n",
        "#df_excluir = df_work[df_work.CPFCNPJ.eq(5935160609)]\n",
        "#df_excluir.head(15)"
      ],
      "metadata": {
        "id": "USLK32U4qAxC"
      },
      "execution_count": null,
      "outputs": []
    },
    {
      "cell_type": "code",
      "source": [
        "#carregando df de_para\n",
        "df_depara = pd.read_csv('/content/gdrive/Shareddrives/Bradesco/Estudos/ProbabilidadeLoc/Planilhas/dOcorrencias.csv', \n",
        "                        sep = ';', encoding = 'latin-1')"
      ],
      "metadata": {
        "id": "7Y8u32-XqIx6"
      },
      "execution_count": null,
      "outputs": []
    },
    {
      "cell_type": "code",
      "source": [
        "#ajustando o nome das colunas que estavam invertidos\n",
        "df_depara = df_depara.rename(columns={'Tabulacao': 'Ocorrencia'})"
      ],
      "metadata": {
        "id": "norr6lvQrOad"
      },
      "execution_count": null,
      "outputs": []
    },
    {
      "cell_type": "markdown",
      "source": [
        "Join no python.\n",
        "\n",
        "https://estatsite.com.br/2019/04/30/join-merge-no-python-pandas/"
      ],
      "metadata": {
        "id": "RGJ1Hsq0YfWb"
      }
    },
    {
      "cell_type": "code",
      "source": [
        "#join dos dataframes\n",
        "df_join = pd.merge(df_work, df_depara, on=\"Ocorrencia\", how=\"left\")"
      ],
      "metadata": {
        "id": "L620RBjEra-u"
      },
      "execution_count": null,
      "outputs": []
    },
    {
      "cell_type": "code",
      "source": [
        "#filtrando somente valores nulos e removendo duplicatas\n",
        "filtered_df = df_join[df_join['classificacao'].isnull()]\n",
        "df_null = filtered_df.drop_duplicates(subset=['Ocorrencia'])"
      ],
      "metadata": {
        "id": "t0Trk92Xr0cf"
      },
      "execution_count": null,
      "outputs": []
    },
    {
      "cell_type": "code",
      "source": [
        "#removendo colunas que não serão usadas\n",
        "df_null = df_null.drop(df_null.columns[[0, 1, 2, 4]], axis=1)"
      ],
      "metadata": {
        "id": "l8vvdxsZuDQc"
      },
      "execution_count": null,
      "outputs": []
    },
    {
      "cell_type": "markdown",
      "source": [
        "Exibir dados diretamente no formato de tabela interativa\n",
        "\n",
        "*from google.colab import data_table\n",
        "data_table.DataTable(concatenado.head(), include_index=False, num_rows_per_page=10)*\n",
        "\n",
        "https://colab.research.google.com/notebooks/data_table.ipynb#scrollTo=oEQUmjXkHZz-"
      ],
      "metadata": {
        "id": "vE3QrptFxpcx"
      }
    },
    {
      "cell_type": "code",
      "source": [
        "#carregando df estoque e alterando o tipo da coluna 'contrato' para não alterar para número\n",
        "df_estoque = pd.read_csv('/content/gdrive/Shareddrives/Bradesco/Estudos/ProbabilidadeLoc/Planilhas/estoque.csv', \n",
        "                         sep = ';', encoding = 'latin-1', dtype={'Contrato': str})"
      ],
      "metadata": {
        "id": "1483rouuV1AO"
      },
      "execution_count": null,
      "outputs": []
    },
    {
      "cell_type": "code",
      "source": [
        "#join dos dataframes e retirada dos clientes sem acionamentos\n",
        "df_est_tab = pd.merge(df_estoque, df_join, how=\"left\", on=[\"Contrato\"])\n",
        "# retirando linhas nulas: df_final = df_est_tab[df_est_tab['classificacao'].notnull()]"
      ],
      "metadata": {
        "id": "WEqsP7hkV85c"
      },
      "execution_count": null,
      "outputs": []
    },
    {
      "cell_type": "code",
      "source": [
        "#usando datetime(timedelta) para ajustar a diferença de -3 devido ao fuso horário UTC-3\n",
        "diferenca = timedelta(hours=-3)"
      ],
      "metadata": {
        "id": "uh_Eme21LrTZ"
      },
      "execution_count": null,
      "outputs": []
    },
    {
      "cell_type": "code",
      "source": [
        "#adicionando uma nova coluna com a data atual e somando (por ser negativo) com a diferença de fuso\n",
        "df_est_tab['Today'] = datetime.today()\n",
        "df_est_tab['Today'] = df_est_tab['Today'] + diferenca"
      ],
      "metadata": {
        "id": "vg535zGrHnED"
      },
      "execution_count": null,
      "outputs": []
    },
    {
      "cell_type": "code",
      "source": [
        "#calculando a diferença de dias entre a data atual e data do acionamento\n",
        "df_est_tab['Days'] = (df_est_tab['Today'] - df_est_tab['Data']).dt.days"
      ],
      "metadata": {
        "id": "0GpjCWyetdqg"
      },
      "execution_count": null,
      "outputs": []
    },
    {
      "cell_type": "code",
      "source": [
        "#carregando depara de % de acordo com os dias\n",
        "df_DiasAcion = pd.read_csv('/content/gdrive/Shareddrives/Bradesco/Estudos/ProbabilidadeLoc/Planilhas/DiasAcion.csv', \n",
        "                           sep = ';', encoding = 'latin-1')"
      ],
      "metadata": {
        "id": "6oLlfcuTTvF1"
      },
      "execution_count": null,
      "outputs": []
    },
    {
      "cell_type": "code",
      "source": [
        "#convertendo \"dias_acion\" para float\n",
        "df_DiasAcion['dias_acion'] = df_DiasAcion['dias_acion'].astype(float)"
      ],
      "metadata": {
        "id": "em0NU41hUUVM"
      },
      "execution_count": null,
      "outputs": []
    },
    {
      "cell_type": "code",
      "source": [
        "#join das colunas com os dados chave possuem nomes diferentes\n",
        "df_comp_2 = pd.merge(df_est_tab, df_DiasAcion, how='left', left_on='Days', right_on='dias_acion')"
      ],
      "metadata": {
        "id": "MjXpH9rVUc2E"
      },
      "execution_count": null,
      "outputs": []
    },
    {
      "cell_type": "code",
      "source": [
        "#carregando pontuação de % de acordo com a ocorrencia\n",
        "df_Pontos = pd.read_csv('/content/gdrive/Shareddrives/Bradesco/Estudos/ProbabilidadeLoc/Planilhas/descpts.csv', \n",
        "                        sep = ';', encoding = 'latin-1')"
      ],
      "metadata": {
        "id": "HDdQTNlSWrSE"
      },
      "execution_count": null,
      "outputs": []
    },
    {
      "cell_type": "code",
      "source": [
        "#as colunas com os dados chave possuem nomes diferentes\n",
        "df_comp = pd.merge(df_comp_2, df_Pontos, how='left', on='classificacao')"
      ],
      "metadata": {
        "id": "GUpmWiQpW6H7"
      },
      "execution_count": null,
      "outputs": []
    },
    {
      "cell_type": "code",
      "source": [
        "#juntando colunas para ter um item unico\n",
        "df_comp[\"Unique\"] = (df_comp[\"Contrato\"].astype(str)) + \";\" + (df_comp[\"%\"].astype(str)) + \";\" + (df_comp[\"pts\"].astype(str))"
      ],
      "metadata": {
        "id": "h_WLs_b1ab6a"
      },
      "execution_count": null,
      "outputs": []
    },
    {
      "cell_type": "code",
      "source": [
        "#ordenando por data de acionamento para pegar o último histórico\n",
        "df_historico = df_comp.sort_values(by = ['data/hora'],ascending=False)\n",
        "\n",
        "#agrupando acionamentos para pegar somente o mais recente e depois agrupar no resultado final\n",
        "df_ultimo_hist = df_historico.groupby([\"CPFCNPJ\"]).agg({'Ocorrencia':'first'})"
      ],
      "metadata": {
        "id": "TSS2n0xdoTuc"
      },
      "execution_count": null,
      "outputs": []
    },
    {
      "cell_type": "code",
      "source": [
        "#removendo duplicadas da coluna unique\n",
        "df_final = df_comp.drop_duplicates(subset=['Unique'])"
      ],
      "metadata": {
        "id": "St3p3kEBbTAx"
      },
      "execution_count": null,
      "outputs": []
    },
    {
      "cell_type": "code",
      "source": [
        "#calculando pontuação de localização\n",
        "df_final[\"ptsloc\"] = df_final[\"%\"] * df_final[\"pts\"]"
      ],
      "metadata": {
        "id": "eiYFGIyld3zQ",
        "colab": {
          "base_uri": "https://localhost:8080/"
        },
        "outputId": "d55891ac-fdf2-4faa-9cb4-7a950bda3824"
      },
      "execution_count": null,
      "outputs": [
        {
          "output_type": "stream",
          "name": "stderr",
          "text": [
            "/usr/local/lib/python3.7/dist-packages/ipykernel_launcher.py:2: SettingWithCopyWarning: \n",
            "A value is trying to be set on a copy of a slice from a DataFrame.\n",
            "Try using .loc[row_indexer,col_indexer] = value instead\n",
            "\n",
            "See the caveats in the documentation: https://pandas.pydata.org/pandas-docs/stable/user_guide/indexing.html#returning-a-view-versus-a-copy\n",
            "  \n"
          ]
        }
      ]
    },
    {
      "cell_type": "markdown",
      "source": [
        "Usando .loc com mais de uma condição. Equivalente a if/else\n",
        "\n",
        "https://www.ti-enxame.com/pt/python/como-usar-.loc-com-groupby-e-duas-condicoes-em-pandas/837480359/"
      ],
      "metadata": {
        "id": "efjLceEfVNGE"
      }
    },
    {
      "cell_type": "code",
      "source": [
        "#marcações de promessa\n",
        "df_final.loc[((df_final['Days'].between(30,90)) & (df_final['classificacao'] == '01. PROMESSA')), 'PROMESSA Old'] = 1\n",
        "df_final.loc[~((df_final['Days'].between(30,90)) & (df_final['classificacao'] == '01. PROMESSA')), 'PROMESSA Old'] = 0\n",
        "\n",
        "df_final.loc[((df_final['Days'] < 31 ) & (df_final['classificacao'] == '01. PROMESSA')), 'PROMESSA New'] = 1\n",
        "df_final.loc[~((df_final['Days'] < 31 ) & (df_final['classificacao'] == '01. PROMESSA')), 'PROMESSA New'] = 0"
      ],
      "metadata": {
        "id": "lPXGEBphwkUP",
        "colab": {
          "base_uri": "https://localhost:8080/"
        },
        "outputId": "2a28140f-a0c0-4279-de35-821a68e42d05"
      },
      "execution_count": null,
      "outputs": [
        {
          "output_type": "stream",
          "name": "stderr",
          "text": [
            "/usr/local/lib/python3.7/dist-packages/pandas/core/indexing.py:1596: SettingWithCopyWarning: \n",
            "A value is trying to be set on a copy of a slice from a DataFrame.\n",
            "Try using .loc[row_indexer,col_indexer] = value instead\n",
            "\n",
            "See the caveats in the documentation: https://pandas.pydata.org/pandas-docs/stable/user_guide/indexing.html#returning-a-view-versus-a-copy\n",
            "  self.obj[key] = _infer_fill_value(value)\n",
            "/usr/local/lib/python3.7/dist-packages/pandas/core/indexing.py:1763: SettingWithCopyWarning: \n",
            "A value is trying to be set on a copy of a slice from a DataFrame.\n",
            "Try using .loc[row_indexer,col_indexer] = value instead\n",
            "\n",
            "See the caveats in the documentation: https://pandas.pydata.org/pandas-docs/stable/user_guide/indexing.html#returning-a-view-versus-a-copy\n",
            "  isetter(loc, value)\n",
            "/usr/local/lib/python3.7/dist-packages/pandas/core/indexing.py:1763: SettingWithCopyWarning: \n",
            "A value is trying to be set on a copy of a slice from a DataFrame.\n",
            "Try using .loc[row_indexer,col_indexer] = value instead\n",
            "\n",
            "See the caveats in the documentation: https://pandas.pydata.org/pandas-docs/stable/user_guide/indexing.html#returning-a-view-versus-a-copy\n",
            "  isetter(loc, value)\n",
            "/usr/local/lib/python3.7/dist-packages/pandas/core/indexing.py:1596: SettingWithCopyWarning: \n",
            "A value is trying to be set on a copy of a slice from a DataFrame.\n",
            "Try using .loc[row_indexer,col_indexer] = value instead\n",
            "\n",
            "See the caveats in the documentation: https://pandas.pydata.org/pandas-docs/stable/user_guide/indexing.html#returning-a-view-versus-a-copy\n",
            "  self.obj[key] = _infer_fill_value(value)\n",
            "/usr/local/lib/python3.7/dist-packages/pandas/core/indexing.py:1763: SettingWithCopyWarning: \n",
            "A value is trying to be set on a copy of a slice from a DataFrame.\n",
            "Try using .loc[row_indexer,col_indexer] = value instead\n",
            "\n",
            "See the caveats in the documentation: https://pandas.pydata.org/pandas-docs/stable/user_guide/indexing.html#returning-a-view-versus-a-copy\n",
            "  isetter(loc, value)\n",
            "/usr/local/lib/python3.7/dist-packages/pandas/core/indexing.py:1763: SettingWithCopyWarning: \n",
            "A value is trying to be set on a copy of a slice from a DataFrame.\n",
            "Try using .loc[row_indexer,col_indexer] = value instead\n",
            "\n",
            "See the caveats in the documentation: https://pandas.pydata.org/pandas-docs/stable/user_guide/indexing.html#returning-a-view-versus-a-copy\n",
            "  isetter(loc, value)\n"
          ]
        }
      ]
    },
    {
      "cell_type": "code",
      "source": [
        "#marcações de CPC com base em um vetor\n",
        "listacpc = ['01. PROMESSA','02. RETORNO','03. CONTACTADO']\n",
        "\n",
        "df_final.loc[((df_final['Days'].between(30,90)) & (df_final['classificacao'].isin(listacpc))), 'CPC Old'] = 1\n",
        "df_final.loc[~((df_final['Days'].between(30,90)) & (df_final['classificacao'].isin(listacpc))), 'CPC Old'] = 0\n",
        "\n",
        "df_final.loc[((df_final['Days'] < 31 ) & (df_final['classificacao'].isin(listacpc))), 'CPC New'] = 1\n",
        "df_final.loc[~((df_final['Days'] < 31 ) & (df_final['classificacao'].isin(listacpc))), 'CPC New'] = 0"
      ],
      "metadata": {
        "colab": {
          "base_uri": "https://localhost:8080/"
        },
        "id": "GAuX4y1bSiK4",
        "outputId": "e3f594ac-8af7-46c5-9384-2009e18a1966"
      },
      "execution_count": null,
      "outputs": [
        {
          "output_type": "stream",
          "name": "stderr",
          "text": [
            "/usr/local/lib/python3.7/dist-packages/pandas/core/indexing.py:1596: SettingWithCopyWarning: \n",
            "A value is trying to be set on a copy of a slice from a DataFrame.\n",
            "Try using .loc[row_indexer,col_indexer] = value instead\n",
            "\n",
            "See the caveats in the documentation: https://pandas.pydata.org/pandas-docs/stable/user_guide/indexing.html#returning-a-view-versus-a-copy\n",
            "  self.obj[key] = _infer_fill_value(value)\n",
            "/usr/local/lib/python3.7/dist-packages/pandas/core/indexing.py:1763: SettingWithCopyWarning: \n",
            "A value is trying to be set on a copy of a slice from a DataFrame.\n",
            "Try using .loc[row_indexer,col_indexer] = value instead\n",
            "\n",
            "See the caveats in the documentation: https://pandas.pydata.org/pandas-docs/stable/user_guide/indexing.html#returning-a-view-versus-a-copy\n",
            "  isetter(loc, value)\n",
            "/usr/local/lib/python3.7/dist-packages/pandas/core/indexing.py:1763: SettingWithCopyWarning: \n",
            "A value is trying to be set on a copy of a slice from a DataFrame.\n",
            "Try using .loc[row_indexer,col_indexer] = value instead\n",
            "\n",
            "See the caveats in the documentation: https://pandas.pydata.org/pandas-docs/stable/user_guide/indexing.html#returning-a-view-versus-a-copy\n",
            "  isetter(loc, value)\n",
            "/usr/local/lib/python3.7/dist-packages/pandas/core/indexing.py:1596: SettingWithCopyWarning: \n",
            "A value is trying to be set on a copy of a slice from a DataFrame.\n",
            "Try using .loc[row_indexer,col_indexer] = value instead\n",
            "\n",
            "See the caveats in the documentation: https://pandas.pydata.org/pandas-docs/stable/user_guide/indexing.html#returning-a-view-versus-a-copy\n",
            "  self.obj[key] = _infer_fill_value(value)\n",
            "/usr/local/lib/python3.7/dist-packages/pandas/core/indexing.py:1763: SettingWithCopyWarning: \n",
            "A value is trying to be set on a copy of a slice from a DataFrame.\n",
            "Try using .loc[row_indexer,col_indexer] = value instead\n",
            "\n",
            "See the caveats in the documentation: https://pandas.pydata.org/pandas-docs/stable/user_guide/indexing.html#returning-a-view-versus-a-copy\n",
            "  isetter(loc, value)\n",
            "/usr/local/lib/python3.7/dist-packages/pandas/core/indexing.py:1763: SettingWithCopyWarning: \n",
            "A value is trying to be set on a copy of a slice from a DataFrame.\n",
            "Try using .loc[row_indexer,col_indexer] = value instead\n",
            "\n",
            "See the caveats in the documentation: https://pandas.pydata.org/pandas-docs/stable/user_guide/indexing.html#returning-a-view-versus-a-copy\n",
            "  isetter(loc, value)\n"
          ]
        }
      ]
    },
    {
      "cell_type": "markdown",
      "source": [
        "**PONTOS DE LOCALIZAÇÃO**\n",
        "\n",
        "Obtidos a partir da multiplicação entre o peso da ocorrência e o peso da respectiva data.\n",
        "\n",
        "![image.png](data:image/png;base64,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)"
      ],
      "metadata": {
        "id": "06TZqiAZeHyD"
      }
    },
    {
      "cell_type": "markdown",
      "source": [
        "**PESO DA DATA DE ACIONAMENTO**\n",
        "\n",
        "Quanto maior o tempo em que um acionamento ocorreu, em dias, menor o seu peso na pontuação de localização.\n",
        "\n",
        "![image.png](data:image/png;base64,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)\n"
      ],
      "metadata": {
        "id": "JkKnb21Jexco"
      }
    },
    {
      "cell_type": "code",
      "source": [
        "#agrupando dados\n",
        "#modo simplificado: df_groupby = df_final.groupby([\"Contrato\", \"Alçada\", \"FAIXA\", \"CPFCNPJ\"])[\"ptsloc\"].sum()\n",
        "\n",
        "df_groupby = df_final.groupby([\"Contrato\", \"CPFCNPJ\", \"Carteira\"]).agg({'ptsloc':'sum', 'PROMESSA Old': 'max', 'PROMESSA New': 'max', \n",
        "                                                                               'CPC Old': 'max', 'CPC New': 'max', 'Data': 'max'})"
      ],
      "metadata": {
        "id": "A8QjzMsGgGqp"
      },
      "execution_count": null,
      "outputs": []
    },
    {
      "cell_type": "code",
      "source": [
        "#limitando em 2 casas decimais o campo 'ptsloc'\n",
        "decimals = 2\n",
        "df_groupby['ptsloc'] = df_groupby['ptsloc'].apply(lambda x: round(x, decimals))"
      ],
      "metadata": {
        "id": "8rv5rKbThshZ"
      },
      "execution_count": null,
      "outputs": []
    },
    {
      "cell_type": "code",
      "source": [
        "#adicionando o resultado ordenado em um df resultado\n",
        "df_resultado = df_groupby.sort_values(by = ['ptsloc'],ascending=False)\n",
        "\n",
        "#transformando as colunas index em colunas normais\n",
        "#df_resultado = df_resultado.reset_index(level=[0,1,2,3,4])\n",
        "df_resultado = df_resultado.reset_index(level=[0,1,2])"
      ],
      "metadata": {
        "id": "V1FLUJx_sShN"
      },
      "execution_count": null,
      "outputs": []
    },
    {
      "cell_type": "code",
      "source": [
        "#join dos dataframes para colocar último histórico\n",
        "df_final_hist = pd.merge(df_resultado, df_ultimo_hist, how=\"left\", on=[\"CPFCNPJ\"])"
      ],
      "metadata": {
        "id": "qbD0xWqszBDo"
      },
      "execution_count": null,
      "outputs": []
    },
    {
      "cell_type": "code",
      "source": [
        "#transformar 'Alçada' em string e substituir vírgula por ponto\n",
        "#df_final_hist['Alçada'] = df_comp['Alçada'].str.replace(',', '.')"
      ],
      "metadata": {
        "id": "qAb5R11A_CJ3"
      },
      "execution_count": null,
      "outputs": []
    },
    {
      "cell_type": "code",
      "source": [
        "#criando a variável dia para incluir no nome do arquivo\n",
        "today = datetime.today()\n",
        "date = today.strftime('%Y%m%d')"
      ],
      "metadata": {
        "id": "YAGtciIpAhG5"
      },
      "execution_count": null,
      "outputs": []
    },
    {
      "cell_type": "code",
      "source": [
        "#criando um arquivo txt com o resultado final\n",
        "df_final_hist.to_csv('/content/gdrive/Shareddrives/Bradesco/Estudos/ProbabilidadeLoc/probloc/probloc' + date + '.txt', \n",
        "                     sep='|', encoding='latin-1', index = False)"
      ],
      "metadata": {
        "id": "ac16KGOjgFyy"
      },
      "execution_count": null,
      "outputs": []
    },
    {
      "cell_type": "code",
      "source": [
        "#criando um arquivo csv com o resultado final\n",
        "df_final_hist.to_csv('/content/gdrive/Shareddrives/Bradesco/Estudos/ProbabilidadeLoc/probloc/probloc' + date + '.csv', \n",
        "                     sep='|', encoding='latin-1', index = False)"
      ],
      "metadata": {
        "id": "i6i39uVaIVht"
      },
      "execution_count": null,
      "outputs": []
    }
  ]
}